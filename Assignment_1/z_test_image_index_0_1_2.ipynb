{
 "cells": [
  {
   "cell_type": "markdown",
   "id": "2cb79848",
   "metadata": {},
   "source": [
    "# Z Test for Means of image_index 0, 1, and 2\n",
    "\n",
    "This notebook performs a Z test to determine if the means for `image_index` 0, 1, and 2 in the provided CSV file are significantly different."
   ]
  },
  {
   "cell_type": "code",
   "execution_count": 2,
   "id": "a9355d52",
   "metadata": {},
   "outputs": [
    {
     "name": "stdout",
     "output_type": "stream",
     "text": [
      "Collecting spicy\n",
      "  Downloading spicy-0.16.0-py2.py3-none-any.whl.metadata (310 bytes)\n",
      "Collecting scipy (from spicy)\n",
      "  Downloading scipy-1.15.3-cp311-cp311-win_amd64.whl.metadata (60 kB)\n",
      "Requirement already satisfied: numpy<2.5,>=1.23.5 in c:\\users\\timo_\\onedrive\\bureau\\unif\\vu_amsterdam\\pci\\collective-intelligence\\.venv\\lib\\site-packages (from scipy->spicy) (2.3.0)\n",
      "Downloading spicy-0.16.0-py2.py3-none-any.whl (1.7 kB)\n",
      "Downloading scipy-1.15.3-cp311-cp311-win_amd64.whl (41.2 MB)\n",
      "   ---------------------------------------- 0.0/41.2 MB ? eta -:--:--\n",
      "   - -------------------------------------- 1.6/41.2 MB 7.0 MB/s eta 0:00:06\n",
      "   ---- ----------------------------------- 4.5/41.2 MB 11.2 MB/s eta 0:00:04\n",
      "   ------ --------------------------------- 7.1/41.2 MB 11.5 MB/s eta 0:00:03\n",
      "   -------- ------------------------------- 9.2/41.2 MB 11.0 MB/s eta 0:00:03\n",
      "   ----------- ---------------------------- 11.8/41.2 MB 11.2 MB/s eta 0:00:03\n",
      "   -------------- ------------------------- 14.9/41.2 MB 11.7 MB/s eta 0:00:03\n",
      "   ----------------- ---------------------- 17.6/41.2 MB 11.8 MB/s eta 0:00:03\n",
      "   ------------------- -------------------- 20.2/41.2 MB 12.1 MB/s eta 0:00:02\n",
      "   --------------------- ------------------ 22.0/41.2 MB 11.7 MB/s eta 0:00:02\n",
      "   ----------------------- ---------------- 24.1/41.2 MB 11.3 MB/s eta 0:00:02\n",
      "   ------------------------- -------------- 26.0/41.2 MB 11.2 MB/s eta 0:00:02\n",
      "   --------------------------- ------------ 28.3/41.2 MB 11.1 MB/s eta 0:00:02\n",
      "   ----------------------------- ---------- 30.7/41.2 MB 11.3 MB/s eta 0:00:01\n",
      "   -------------------------------- ------- 33.6/41.2 MB 11.3 MB/s eta 0:00:01\n",
      "   ---------------------------------- ----- 35.9/41.2 MB 11.4 MB/s eta 0:00:01\n",
      "   ------------------------------------- -- 38.8/41.2 MB 11.4 MB/s eta 0:00:01\n",
      "   ---------------------------------------  40.9/41.2 MB 11.4 MB/s eta 0:00:01\n",
      "   ---------------------------------------- 41.2/41.2 MB 11.0 MB/s eta 0:00:00\n",
      "Installing collected packages: scipy, spicy\n",
      "\n",
      "   ---------------------------------------- 0/2 [scipy]\n",
      "   ---------------------------------------- 0/2 [scipy]\n",
      "   ---------------------------------------- 0/2 [scipy]\n",
      "   ---------------------------------------- 0/2 [scipy]\n",
      "   ---------------------------------------- 0/2 [scipy]\n",
      "   ---------------------------------------- 0/2 [scipy]\n",
      "   ---------------------------------------- 0/2 [scipy]\n",
      "   ---------------------------------------- 0/2 [scipy]\n",
      "   ---------------------------------------- 0/2 [scipy]\n",
      "   ---------------------------------------- 0/2 [scipy]\n",
      "   ---------------------------------------- 0/2 [scipy]\n",
      "   ---------------------------------------- 0/2 [scipy]\n",
      "   ---------------------------------------- 0/2 [scipy]\n",
      "   ---------------------------------------- 0/2 [scipy]\n",
      "   ---------------------------------------- 0/2 [scipy]\n",
      "   ---------------------------------------- 0/2 [scipy]\n",
      "   ---------------------------------------- 0/2 [scipy]\n",
      "   ---------------------------------------- 0/2 [scipy]\n",
      "   ---------------------------------------- 0/2 [scipy]\n",
      "   ---------------------------------------- 0/2 [scipy]\n",
      "   ---------------------------------------- 0/2 [scipy]\n",
      "   ---------------------------------------- 0/2 [scipy]\n",
      "   ---------------------------------------- 0/2 [scipy]\n",
      "   ---------------------------------------- 0/2 [scipy]\n",
      "   ---------------------------------------- 0/2 [scipy]\n",
      "   ---------------------------------------- 0/2 [scipy]\n",
      "   ---------------------------------------- 0/2 [scipy]\n",
      "   ---------------------------------------- 0/2 [scipy]\n",
      "   ---------------------------------------- 0/2 [scipy]\n",
      "   ---------------------------------------- 0/2 [scipy]\n",
      "   ---------------------------------------- 0/2 [scipy]\n",
      "   ---------------------------------------- 0/2 [scipy]\n",
      "   ---------------------------------------- 0/2 [scipy]\n",
      "   ---------------------------------------- 0/2 [scipy]\n",
      "   ---------------------------------------- 0/2 [scipy]\n",
      "   ---------------------------------------- 0/2 [scipy]\n",
      "   ---------------------------------------- 0/2 [scipy]\n",
      "   ---------------------------------------- 0/2 [scipy]\n",
      "   ---------------------------------------- 0/2 [scipy]\n",
      "   ---------------------------------------- 0/2 [scipy]\n",
      "   ---------------------------------------- 0/2 [scipy]\n",
      "   ---------------------------------------- 0/2 [scipy]\n",
      "   ---------------------------------------- 0/2 [scipy]\n",
      "   ---------------------------------------- 0/2 [scipy]\n",
      "   ---------------------------------------- 0/2 [scipy]\n",
      "   ---------------------------------------- 0/2 [scipy]\n",
      "   ---------------------------------------- 0/2 [scipy]\n",
      "   ---------------------------------------- 0/2 [scipy]\n",
      "   ---------------------------------------- 0/2 [scipy]\n",
      "   ---------------------------------------- 0/2 [scipy]\n",
      "   ---------------------------------------- 0/2 [scipy]\n",
      "   ---------------------------------------- 0/2 [scipy]\n",
      "   ---------------------------------------- 0/2 [scipy]\n",
      "   ---------------------------------------- 0/2 [scipy]\n",
      "   ---------------------------------------- 0/2 [scipy]\n",
      "   ---------------------------------------- 0/2 [scipy]\n",
      "   ---------------------------------------- 0/2 [scipy]\n",
      "   ---------------------------------------- 0/2 [scipy]\n",
      "   ---------------------------------------- 0/2 [scipy]\n",
      "   ---------------------------------------- 0/2 [scipy]\n",
      "   ---------------------------------------- 0/2 [scipy]\n",
      "   ---------------------------------------- 0/2 [scipy]\n",
      "   ---------------------------------------- 0/2 [scipy]\n",
      "   ---------------------------------------- 0/2 [scipy]\n",
      "   ---------------------------------------- 0/2 [scipy]\n",
      "   ---------------------------------------- 0/2 [scipy]\n",
      "   ---------------------------------------- 0/2 [scipy]\n",
      "   ---------------------------------------- 0/2 [scipy]\n",
      "   ---------------------------------------- 0/2 [scipy]\n",
      "   ---------------------------------------- 0/2 [scipy]\n",
      "   ---------------------------------------- 0/2 [scipy]\n",
      "   ---------------------------------------- 0/2 [scipy]\n",
      "   ---------------------------------------- 0/2 [scipy]\n",
      "   ---------------------------------------- 0/2 [scipy]\n",
      "   ---------------------------------------- 0/2 [scipy]\n",
      "   ---------------------------------------- 0/2 [scipy]\n",
      "   ---------------------------------------- 0/2 [scipy]\n",
      "   ---------------------------------------- 0/2 [scipy]\n",
      "   ---------------------------------------- 0/2 [scipy]\n",
      "   ---------------------------------------- 0/2 [scipy]\n",
      "   ---------------------------------------- 0/2 [scipy]\n",
      "   ---------------------------------------- 0/2 [scipy]\n",
      "   ---------------------------------------- 0/2 [scipy]\n",
      "   ---------------------------------------- 0/2 [scipy]\n",
      "   ---------------------------------------- 0/2 [scipy]\n",
      "   ---------------------------------------- 0/2 [scipy]\n",
      "   ---------------------------------------- 0/2 [scipy]\n",
      "   ---------------------------------------- 0/2 [scipy]\n",
      "   ---------------------------------------- 0/2 [scipy]\n",
      "   ---------------------------------------- 0/2 [scipy]\n",
      "   ---------------------------------------- 0/2 [scipy]\n",
      "   ---------------------------------------- 0/2 [scipy]\n",
      "   ---------------------------------------- 0/2 [scipy]\n",
      "   ---------------------------------------- 0/2 [scipy]\n",
      "   ---------------------------------------- 0/2 [scipy]\n",
      "   ---------------------------------------- 0/2 [scipy]\n",
      "   ---------------------------------------- 0/2 [scipy]\n",
      "   ---------------------------------------- 0/2 [scipy]\n",
      "   ---------------------------------------- 0/2 [scipy]\n",
      "   ---------------------------------------- 0/2 [scipy]\n",
      "   ---------------------------------------- 0/2 [scipy]\n",
      "   ---------------------------------------- 0/2 [scipy]\n",
      "   ---------------------------------------- 0/2 [scipy]\n",
      "   ---------------------------------------- 0/2 [scipy]\n",
      "   ---------------------------------------- 0/2 [scipy]\n",
      "   ---------------------------------------- 0/2 [scipy]\n",
      "   ---------------------------------------- 0/2 [scipy]\n",
      "   ---------------------------------------- 0/2 [scipy]\n",
      "   ---------------------------------------- 0/2 [scipy]\n",
      "   ---------------------------------------- 0/2 [scipy]\n",
      "   ---------------------------------------- 0/2 [scipy]\n",
      "   ---------------------------------------- 0/2 [scipy]\n",
      "   ---------------------------------------- 0/2 [scipy]\n",
      "   ---------------------------------------- 0/2 [scipy]\n",
      "   ---------------------------------------- 0/2 [scipy]\n",
      "   ---------------------------------------- 0/2 [scipy]\n",
      "   ---------------------------------------- 0/2 [scipy]\n",
      "   ---------------------------------------- 0/2 [scipy]\n",
      "   ---------------------------------------- 0/2 [scipy]\n",
      "   ---------------------------------------- 0/2 [scipy]\n",
      "   ---------------------------------------- 0/2 [scipy]\n",
      "   ---------------------------------------- 0/2 [scipy]\n",
      "   ---------------------------------------- 0/2 [scipy]\n",
      "   ---------------------------------------- 0/2 [scipy]\n",
      "   ---------------------------------------- 0/2 [scipy]\n",
      "   ---------------------------------------- 0/2 [scipy]\n",
      "   ---------------------------------------- 0/2 [scipy]\n",
      "   ---------------------------------------- 0/2 [scipy]\n",
      "   ---------------------------------------- 0/2 [scipy]\n",
      "   ---------------------------------------- 0/2 [scipy]\n",
      "   ---------------------------------------- 0/2 [scipy]\n",
      "   ---------------------------------------- 0/2 [scipy]\n",
      "   ---------------------------------------- 0/2 [scipy]\n",
      "   ---------------------------------------- 0/2 [scipy]\n",
      "   ---------------------------------------- 0/2 [scipy]\n",
      "   ---------------------------------------- 0/2 [scipy]\n",
      "   ---------------------------------------- 0/2 [scipy]\n",
      "   ---------------------------------------- 0/2 [scipy]\n",
      "   ---------------------------------------- 0/2 [scipy]\n",
      "   ---------------------------------------- 0/2 [scipy]\n",
      "   ---------------------------------------- 0/2 [scipy]\n",
      "   ---------------------------------------- 0/2 [scipy]\n",
      "   ---------------------------------------- 0/2 [scipy]\n",
      "   ---------------------------------------- 0/2 [scipy]\n",
      "   ---------------------------------------- 0/2 [scipy]\n",
      "   ---------------------------------------- 0/2 [scipy]\n",
      "   ---------------------------------------- 0/2 [scipy]\n",
      "   ---------------------------------------- 0/2 [scipy]\n",
      "   ---------------------------------------- 0/2 [scipy]\n",
      "   ---------------------------------------- 2/2 [spicy]\n",
      "\n",
      "Successfully installed scipy-1.15.3 spicy-0.16.0\n"
     ]
    }
   ],
   "source": [
    "! pip install spicy"
   ]
  },
  {
   "cell_type": "code",
   "execution_count": 3,
   "id": "ae1fd692",
   "metadata": {},
   "outputs": [],
   "source": [
    "# Import required libraries\n",
    "import pandas as pd\n",
    "import numpy as np\n",
    "from scipy.stats import norm"
   ]
  },
  {
   "cell_type": "markdown",
   "id": "4e6955ee",
   "metadata": {},
   "source": [
    "## 1. Load the CSV file\n",
    "\n",
    "We will load the data from the specified CSV file."
   ]
  },
  {
   "cell_type": "code",
   "execution_count": 16,
   "id": "1749d13c",
   "metadata": {},
   "outputs": [
    {
     "data": {
      "text/html": [
       "<div>\n",
       "<style scoped>\n",
       "    .dataframe tbody tr th:only-of-type {\n",
       "        vertical-align: middle;\n",
       "    }\n",
       "\n",
       "    .dataframe tbody tr th {\n",
       "        vertical-align: top;\n",
       "    }\n",
       "\n",
       "    .dataframe thead th {\n",
       "        text-align: right;\n",
       "    }\n",
       "</style>\n",
       "<table border=\"1\" class=\"dataframe\">\n",
       "  <thead>\n",
       "    <tr style=\"text-align: right;\">\n",
       "      <th></th>\n",
       "      <th>frame</th>\n",
       "      <th>image_index</th>\n",
       "      <th>agents</th>\n",
       "      <th>agents_smoothed</th>\n",
       "      <th>run_id</th>\n",
       "    </tr>\n",
       "  </thead>\n",
       "  <tbody>\n",
       "    <tr>\n",
       "      <th>0</th>\n",
       "      <td>0</td>\n",
       "      <td>0</td>\n",
       "      <td>87</td>\n",
       "      <td>87.0</td>\n",
       "      <td>1</td>\n",
       "    </tr>\n",
       "    <tr>\n",
       "      <th>1</th>\n",
       "      <td>1</td>\n",
       "      <td>0</td>\n",
       "      <td>87</td>\n",
       "      <td>87.0</td>\n",
       "      <td>1</td>\n",
       "    </tr>\n",
       "    <tr>\n",
       "      <th>2</th>\n",
       "      <td>2</td>\n",
       "      <td>0</td>\n",
       "      <td>87</td>\n",
       "      <td>87.0</td>\n",
       "      <td>1</td>\n",
       "    </tr>\n",
       "    <tr>\n",
       "      <th>3</th>\n",
       "      <td>3</td>\n",
       "      <td>0</td>\n",
       "      <td>87</td>\n",
       "      <td>87.0</td>\n",
       "      <td>1</td>\n",
       "    </tr>\n",
       "    <tr>\n",
       "      <th>4</th>\n",
       "      <td>4</td>\n",
       "      <td>0</td>\n",
       "      <td>87</td>\n",
       "      <td>87.0</td>\n",
       "      <td>1</td>\n",
       "    </tr>\n",
       "  </tbody>\n",
       "</table>\n",
       "</div>"
      ],
      "text/plain": [
       "   frame  image_index  agents  agents_smoothed  run_id\n",
       "0      0            0      87             87.0       1\n",
       "1      1            0      87             87.0       1\n",
       "2      2            0      87             87.0       1\n",
       "3      3            0      87             87.0       1\n",
       "4      4            0      87             87.0       1"
      ]
     },
     "execution_count": 16,
     "metadata": {},
     "output_type": "execute_result"
    }
   ],
   "source": [
    "# Load the CSV file\n",
    "df1 = pd.read_csv('results_stage2/Difaggregation_data_20250613_103611_run1.csv')\n",
    "df1[\"run_id\"] = 1\n",
    "df2 = pd.read_csv('results_stage2/Difaggregation_data_20250613_103826_run2.csv')\n",
    "df2[\"run_id\"] = 2\n",
    "df3 = pd.read_csv('results_stage2/Difaggregation_data_20250613_103927_run3.csv')\n",
    "df3[\"run_id\"] = 3\n",
    "df4 = pd.read_csv('results_stage2/Difaggregation_data_20250613_104015_run4.csv')\n",
    "df4[\"run_id\"] = 4\n",
    "df5 = pd.read_csv('results_stage2/Difaggregation_data_20250613_104220_run5.csv')\n",
    "df5[\"run_id\"] = 5\n",
    "df6 = pd.read_csv('results_stage2/Difaggregation_data_20250613_104617_run6.csv')\n",
    "df6[\"run_id\"] = 6\n",
    "\n",
    "\n",
    "df = pd.concat([df1, df2,df3, df4, df5, df6], ignore_index=True)\n",
    "df.head()"
   ]
  },
  {
   "cell_type": "code",
   "execution_count": 18,
   "id": "a2d22f3d",
   "metadata": {},
   "outputs": [
    {
     "name": "stdout",
     "output_type": "stream",
     "text": [
      "              zone0  zone1  zone2\n",
      "run_id frame                     \n",
      "1      0       87.0   11.0    2.0\n",
      "       1       87.0   11.0    2.0\n",
      "       2       87.0   11.0    2.0\n",
      "       3       87.0   11.0    2.0\n",
      "       4       87.0   11.0    2.0\n"
     ]
    }
   ],
   "source": [
    "# Pivot the table so each frame has one row and each image_index becomes a column\n",
    "df_pivot = df.pivot_table(index=['run_id', 'frame'], columns='image_index', values='agents', aggfunc='mean')\n",
    "\n",
    "\n",
    "# Optional: rename the columns for clarity\n",
    "df_pivot.columns = ['zone0', 'zone1', 'zone2']\n",
    "\n",
    "# Drop rows with any NaN (in case one frame is missing data for a zone)\n",
    "df_pivot.dropna(inplace=True)\n",
    "\n",
    "# Now you can do comparisons *per frame*\n",
    "print(df_pivot.head())\n"
   ]
  },
  {
   "cell_type": "markdown",
   "id": "a96f9886",
   "metadata": {},
   "source": [
    "## 2. Filter data for image_index 0, 1, and 2\n",
    "\n",
    "We will filter the data for each `image_index` and prepare for analysis."
   ]
  },
  {
   "cell_type": "code",
   "execution_count": 20,
   "id": "80da1fab",
   "metadata": {},
   "outputs": [
    {
     "name": "stdout",
     "output_type": "stream",
     "text": [
      "Z-test (zone1 vs zone2 mean proportion across runs): z = 3.9675, p = 7.2626e-05\n"
     ]
    }
   ],
   "source": [
    "# Group by run and calculate mean proportion for each zone per run\n",
    "zone_means = df_pivot.groupby('run_id')[['zone0', 'zone1', 'zone2']].mean().reset_index()\n",
    "\n",
    "# Perform Z-test on these means (between zone0 and zone1)\n",
    "from scipy.stats import norm\n",
    "import numpy as np\n",
    "\n",
    "def z_test_from_samples(x, y):\n",
    "    mean1, std1, n1 = x.mean(), x.std(ddof=1), len(x)\n",
    "    mean2, std2, n2 = y.mean(), y.std(ddof=1), len(y)\n",
    "    se = np.sqrt(std1**2 / n1 + std2**2 / n2)\n",
    "    z = (mean1 - mean2) / se\n",
    "    p = 2 * (1 - norm.cdf(abs(z)))\n",
    "    return z, p\n",
    "\n",
    "# Example: Compare zone0 vs zone1\n",
    "z, p = z_test_from_samples(zone_means['zone1'], zone_means['zone2'])\n",
    "print(f\"Z-test (zone1 vs zone2 mean proportion across runs): z = {z:.4f}, p = {p:.4e}\")\n"
   ]
  },
  {
   "cell_type": "markdown",
   "id": "3c16ce78",
   "metadata": {},
   "source": [
    "## 3. Calculate means and standard deviations\n",
    "\n",
    "We will calculate the mean and standard deviation for each group."
   ]
  },
  {
   "cell_type": "code",
   "execution_count": null,
   "id": "d6d52f90",
   "metadata": {},
   "outputs": [
    {
     "name": "stdout",
     "output_type": "stream",
     "text": [
      "image_index 0: mean = 33.8339, std = 33.1023, n = 58584\n",
      "image_index 1: mean = 65.3500, std = 34.7518, n = 60001\n",
      "image_index 2: mean = 3.0776, std = 2.0497, n = 31490\n"
     ]
    }
   ],
   "source": [
    "# Group by image_index\n",
    "groups = df.groupby(\"image_index\")\n",
    "\n",
    "# Calculate mean, std, and n for each group using 'agents'\n",
    "stats = {}\n",
    "for idx, group in groups:\n",
    "    stats[idx] = {\n",
    "        'mean': group['agents'].mean(),\n",
    "        'std': group['agents'].std(ddof=1),\n",
    "        'n': len(group)\n",
    "    }\n",
    "    print(f\"image_index {idx}: mean = {stats[idx]['mean']:.4f}, std = {stats[idx]['std']:.4f}, n = {stats[idx]['n']}\")\n"
   ]
  },
  {
   "cell_type": "markdown",
   "id": "291d941d",
   "metadata": {},
   "source": [
    "## 4. Perform Z tests between the groups\n",
    "\n",
    "We will perform pairwise Z tests between the means of the groups."
   ]
  },
  {
   "cell_type": "code",
   "execution_count": 12,
   "id": "a426579c",
   "metadata": {},
   "outputs": [
    {
     "name": "stdout",
     "output_type": "stream",
     "text": [
      "Z test between image_index 0 and 1: z = -159.9329, p = 0.0000e+00\n",
      "Z test between image_index 0 and 2: z = 224.0892, p = 0.0000e+00\n",
      "Z test between image_index 1 and 2: z = 437.4842, p = 0.0000e+00\n"
     ]
    }
   ],
   "source": [
    "def z_test(mean1, std1, n1, mean2, std2, n2):\n",
    "    # Standard error\n",
    "    se = np.sqrt(std1**2 / n1 + std2**2 / n2)\n",
    "    z = (mean1 - mean2) / se\n",
    "    p = 2 * (1 - norm.cdf(abs(z)))\n",
    "    return z, p\n",
    "\n",
    "pairs = [(0, 1), (0, 2), (1, 2)]\n",
    "for i, j in pairs:\n",
    "    z, p = z_test(stats[i]['mean'], stats[i]['std'], stats[i]['n'],\n",
    "                  stats[j]['mean'], stats[j]['std'], stats[j]['n'])\n",
    "    print(f\"Z test between image_index {i} and {j}: z = {z:.4f}, p = {p:.4e}\")"
   ]
  },
  {
   "cell_type": "markdown",
   "id": "54e1c355",
   "metadata": {},
   "source": [
    "## 5. Interpretation of Results\n",
    "\n",
    "Interpret the p-values from the Z tests. If p &lt; 0.05, the difference in means is considered statistically significant."
   ]
  },
  {
   "cell_type": "code",
   "execution_count": 13,
   "id": "90d6f92c",
   "metadata": {},
   "outputs": [
    {
     "name": "stdout",
     "output_type": "stream",
     "text": [
      "The means of image_index 0 and 1 are significantly different (p = 0.0000e+00).\n",
      "The means of image_index 0 and 2 are significantly different (p = 0.0000e+00).\n",
      "The means of image_index 1 and 2 are significantly different (p = 0.0000e+00).\n"
     ]
    }
   ],
   "source": [
    "# Interpretation\n",
    "for i, j in pairs:\n",
    "    z, p = z_test(stats[i]['mean'], stats[i]['std'], stats[i]['n'],\n",
    "                  stats[j]['mean'], stats[j]['std'], stats[j]['n'])\n",
    "    if p < 0.05:\n",
    "        print(f\"The means of image_index {i} and {j} are significantly different (p = {p:.4e}).\")\n",
    "    else:\n",
    "        print(f\"No significant difference between means of image_index {i} and {j} (p = {p:.4e}).\")"
   ]
  },
  {
   "cell_type": "code",
   "execution_count": null,
   "id": "5097aff4",
   "metadata": {},
   "outputs": [],
   "source": []
  }
 ],
 "metadata": {
  "kernelspec": {
   "display_name": ".venv",
   "language": "python",
   "name": "python3"
  },
  "language_info": {
   "codemirror_mode": {
    "name": "ipython",
    "version": 3
   },
   "file_extension": ".py",
   "mimetype": "text/x-python",
   "name": "python",
   "nbconvert_exporter": "python",
   "pygments_lexer": "ipython3",
   "version": "3.11.0"
  }
 },
 "nbformat": 4,
 "nbformat_minor": 5
}
